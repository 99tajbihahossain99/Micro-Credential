{
  "nbformat": 4,
  "nbformat_minor": 0,
  "metadata": {
    "colab": {
      "name": "Unit2L3byTajbiha.ipynb",
      "provenance": [],
      "collapsed_sections": [],
      "authorship_tag": "ABX9TyNXTEdQTBzoV5VJu/3NQCio",
      "include_colab_link": true
    },
    "kernelspec": {
      "name": "python3",
      "display_name": "Python 3"
    }
  },
  "cells": [
    {
      "cell_type": "markdown",
      "metadata": {
        "id": "view-in-github",
        "colab_type": "text"
      },
      "source": [
        "<a href=\"https://colab.research.google.com/github/99tajbihahossain99/Micro-Credential/blob/main/Unit2L3byTajbiha.ipynb\" target=\"_parent\"><img src=\"https://colab.research.google.com/assets/colab-badge.svg\" alt=\"Open In Colab\"/></a>"
      ]
    },
    {
      "cell_type": "code",
      "metadata": {
        "colab": {
          "base_uri": "https://localhost:8080/"
        },
        "id": "cPd-dbdQxlVm",
        "outputId": "61226d8e-c6dd-4775-fdaf-f0fba2bc32c7"
      },
      "source": [
        "shows = ['Friends', 'The Wire', 'Seinfeld', 'Sopranos', 'Dead to Me']\r\n",
        "#2.print the list in original order\r\n",
        "print(shows)\r\n"
      ],
      "execution_count": null,
      "outputs": [
        {
          "output_type": "stream",
          "text": [
            "['Friends', 'The Wire', 'Seinfeld', 'Sopranos', 'Dead to Me']\n"
          ],
          "name": "stdout"
        }
      ]
    },
    {
      "cell_type": "code",
      "metadata": {
        "colab": {
          "base_uri": "https://localhost:8080/"
        },
        "id": "BEkxFafTzbLs",
        "outputId": "8ccd4329-cd8c-40f7-915e-1fd48b091fe6"
      },
      "source": [
        "#3.Use the sorted() function to print the list in alphabetical order\r\n",
        "shows = sorted(shows)\r\n",
        "print(shows)"
      ],
      "execution_count": null,
      "outputs": [
        {
          "output_type": "stream",
          "text": [
            "['Dead to Me', 'Friends', 'Seinfeld', 'Sopranos', 'The Wire']\n"
          ],
          "name": "stdout"
        }
      ]
    },
    {
      "cell_type": "code",
      "metadata": {
        "colab": {
          "base_uri": "https://localhost:8080/"
        },
        "id": "36HepmCSFFZW",
        "outputId": "defc5761-dc10-4352-cfbd-4547a57d1f08"
      },
      "source": [
        "#4.Print out your original list\r\n",
        "print(str(shows))"
      ],
      "execution_count": null,
      "outputs": [
        {
          "output_type": "stream",
          "text": [
            "['Dead to Me', 'Friends', 'Seinfeld', 'Sopranos', 'The Wire']\n"
          ],
          "name": "stdout"
        }
      ]
    },
    {
      "cell_type": "code",
      "metadata": {
        "colab": {
          "base_uri": "https://localhost:8080/"
        },
        "id": "xeB7T5kfFkif",
        "outputId": "7a14e979-42e8-4491-a9af-472098eed1a4"
      },
      "source": [
        "#5.Used sorted() to print your list in reverse alphabetical order\r\n",
        "print(str(sorted(shows, reverse = True)))"
      ],
      "execution_count": null,
      "outputs": [
        {
          "output_type": "stream",
          "text": [
            "['The Wire', 'Sopranos', 'Seinfeld', 'Friends', 'Dead to Me']\n"
          ],
          "name": "stdout"
        }
      ]
    },
    {
      "cell_type": "code",
      "metadata": {
        "colab": {
          "base_uri": "https://localhost:8080/"
        },
        "id": "XBibXpWZGT7_",
        "outputId": "fd2dcba5-c0e0-4dfb-9c08-87347f361f39"
      },
      "source": [
        "#6.Create a message indicating how many favorite TV shows you have – use the len() function\r\n",
        "print(\"I have \" + str(len(shows)) + \" favorite TV shows\")"
      ],
      "execution_count": null,
      "outputs": [
        {
          "output_type": "stream",
          "text": [
            "I have 5 favorite TV shows\n"
          ],
          "name": "stdout"
        }
      ]
    }
  ]
}
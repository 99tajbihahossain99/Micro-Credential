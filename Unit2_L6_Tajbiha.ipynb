{
  "nbformat": 4,
  "nbformat_minor": 0,
  "metadata": {
    "colab": {
      "name": "Unit2_L6_Tajbiha.ipynb",
      "provenance": [],
      "collapsed_sections": [],
      "authorship_tag": "ABX9TyP5KRDSPfqI8hzQo4EzOAVZ",
      "include_colab_link": true
    },
    "kernelspec": {
      "name": "python3",
      "display_name": "Python 3"
    }
  },
  "cells": [
    {
      "cell_type": "markdown",
      "metadata": {
        "id": "view-in-github",
        "colab_type": "text"
      },
      "source": [
        "<a href=\"https://colab.research.google.com/github/msTaj774/Micro-Credential/blob/main/Unit2_L6_Tajbiha.ipynb\" target=\"_parent\"><img src=\"https://colab.research.google.com/assets/colab-badge.svg\" alt=\"Open In Colab\"/></a>"
      ]
    },
    {
      "cell_type": "markdown",
      "metadata": {
        "id": "GNifSUx8w7vo"
      },
      "source": [
        "# Name: Tajbiha Hossain Momo\r\n",
        "# Lesson: Unit 2 – Python Dictionaries\r\n"
      ]
    },
    {
      "cell_type": "code",
      "metadata": {
        "colab": {
          "base_uri": "https://localhost:8080/"
        },
        "id": "JXi8Or-UxOLm",
        "outputId": "aecdf166-0935-4072-b310-776716839d5c"
      },
      "source": [
        "# 1.Create a simple dictionary that stores 2 variables, for example: first and last name.\r\n",
        "\r\n",
        "name = {'first_name': 'Tajbiha', 'last_name': 'Hossain Momo'}\r\n",
        "print(name)"
      ],
      "execution_count": null,
      "outputs": [
        {
          "output_type": "stream",
          "text": [
            "{'first_name': 'Tajbiha', 'last_name': 'Hossain Momo'}\n"
          ],
          "name": "stdout"
        }
      ]
    },
    {
      "cell_type": "code",
      "metadata": {
        "colab": {
          "base_uri": "https://localhost:8080/"
        },
        "id": "kbi3giqkywt2",
        "outputId": "79977b3e-1d2f-4b37-f5bc-fc622c39a76a"
      },
      "source": [
        "# 2.Print out those variables stored in your previous dictionary.\r\n",
        "\r\n",
        "print(name['first_name'] + ' ' + name['last_name'])"
      ],
      "execution_count": null,
      "outputs": [
        {
          "output_type": "stream",
          "text": [
            "Tajbiha Hossain Momo\n"
          ],
          "name": "stdout"
        }
      ]
    },
    {
      "cell_type": "code",
      "metadata": {
        "colab": {
          "base_uri": "https://localhost:8080/"
        },
        "id": "jjNdsyJ_10Oj",
        "outputId": "34d0965d-917f-4572-ec35-a4edf5833f13"
      },
      "source": [
        "# 3.Add a message to those variables on printing: for example: “Hello, firstname lastname!”\r\n",
        "\r\n",
        "print('Hello, ' + name['first_name'] + ' ' + name['last_name'] + '!')"
      ],
      "execution_count": null,
      "outputs": [
        {
          "output_type": "stream",
          "text": [
            "Hello, Tajbiha Hossain Momo!\n"
          ],
          "name": "stdout"
        }
      ]
    },
    {
      "cell_type": "code",
      "metadata": {
        "colab": {
          "base_uri": "https://localhost:8080/"
        },
        "id": "KgVderl04gYj",
        "outputId": "2b3e0c4c-825f-4c25-9f0a-a9bac0bae226"
      },
      "source": [
        "# 4.Create a dictionary that holds 2 key: value pairs:\r\n",
        "#Loop through your dictionary and print each pair,\r\n",
        "\r\n",
        "dict = {\r\n",
        "    'Student':'Tajbiha',\r\n",
        "    'Course':'Python'\r\n",
        "}    \r\n",
        "for k,v in dict.items():\r\n",
        "  print(k + ' = ' + v)      "
      ],
      "execution_count": null,
      "outputs": [
        {
          "output_type": "stream",
          "text": [
            "Student = Tajbiha\n",
            "Course = Python\n"
          ],
          "name": "stdout"
        }
      ]
    },
    {
      "cell_type": "code",
      "metadata": {
        "id": "5bSL76AEPxgL",
        "colab": {
          "base_uri": "https://localhost:8080/"
        },
        "outputId": "e81d7b2a-6f7b-4a97-8d8c-fbf2f7bfd969"
      },
      "source": [
        "# 5.Create a nested dictionary containing three dictionaries – these dictionaries could be anything (favorite pets, travel locations, etc.)\r\n",
        "#Loop through the dictionaries and print a message for each.\r\n",
        "\r\n",
        "nested_dict = {'1': {'favorite_movie': 'Us'},\r\n",
        "               '2': {'favorite_movie': 'Lion King'},\r\n",
        "               '3': {'favorite_movie': 'Star Wars'}}\r\n",
        "\r\n",
        "for dicts, info in nested_dict.items():\r\n",
        "  print('dictory num ', dicts)\r\n",
        "\r\n",
        "  for k in info:\r\n",
        "    print('My favorite movie is ' + info[k])"
      ],
      "execution_count": 52,
      "outputs": [
        {
          "output_type": "stream",
          "text": [
            "dictory num  1\n",
            "My favorite movie is Us\n",
            "dictory num  2\n",
            "My favorite movie is Lion King\n",
            "dictory num  3\n",
            "My favorite movie is Star Wars\n"
          ],
          "name": "stdout"
        }
      ]
    }
  ]
}
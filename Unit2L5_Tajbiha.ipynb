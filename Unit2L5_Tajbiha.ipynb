{
  "nbformat": 4,
  "nbformat_minor": 0,
  "metadata": {
    "colab": {
      "name": "Unit2L5_Tajbiha.ipynb",
      "provenance": [],
      "collapsed_sections": [],
      "authorship_tag": "ABX9TyN5YEelS4N3zDO/HI4BP/t4",
      "include_colab_link": true
    },
    "kernelspec": {
      "name": "python3",
      "display_name": "Python 3"
    }
  },
  "cells": [
    {
      "cell_type": "markdown",
      "metadata": {
        "id": "view-in-github",
        "colab_type": "text"
      },
      "source": [
        "<a href=\"https://colab.research.google.com/github/msTaj774/Micro-Credential/blob/main/Unit2L5_Tajbiha.ipynb\" target=\"_parent\"><img src=\"https://colab.research.google.com/assets/colab-badge.svg\" alt=\"Open In Colab\"/></a>"
      ]
    },
    {
      "cell_type": "code",
      "metadata": {
        "colab": {
          "base_uri": "https://localhost:8080/"
        },
        "id": "wHrsvxWIiRmB",
        "outputId": "6eca937a-a493-4f45-ebf8-2b6096aa4100"
      },
      "source": [
        "# 1.Make a list of 5 or more usernames, including an admin account.  Imagine you are writing code that will welcome people to your application on login. Loop through the list and print your greeting.\r\n",
        "#If the admin account logs in, give them a special greeting.  They’re the admin, after all!\r\n",
        "#Other users can get the generic greeting\r\n",
        "\r\n",
        "user = {'Tajbiha': 'admin',\r\n",
        "        'Hossain': 'regular',\r\n",
        "        'Momo': 'admin',\r\n",
        "        'Ruby': 'admin',\r\n",
        "        'Naj': 'regular'}\r\n",
        "\r\n",
        "for keys, values in user.items():\r\n",
        "    if values == 'admin':\r\n",
        "      print(\"Hello admin, Welcome !\")\r\n",
        "    else:\r\n",
        "      print(\"Hello , thank you for logging in !\")"
      ],
      "execution_count": 24,
      "outputs": [
        {
          "output_type": "stream",
          "text": [
            "Hello admin, Welcome !\n",
            "Hello , thank you for logging in !\n",
            "Hello admin, Welcome !\n",
            "Hello admin, Welcome !\n",
            "Hello , thank you for logging in !\n"
          ],
          "name": "stdout"
        }
      ]
    },
    {
      "cell_type": "code",
      "metadata": {
        "colab": {
          "base_uri": "https://localhost:8080/"
        },
        "id": "uwZUlvUaPU20",
        "outputId": "40a65505-b137-4b4b-f128-c75f47f3e6bf"
      },
      "source": [
        "# 2.Store numbers 1-10 in a list\r\n",
        "#Loop through the list\r\n",
        "#Use an if-elif-else chain inside your loop to print the ordinal ending for each number – for example – 1st, 2nd, 3rd … etc.\r\n",
        "\r\n",
        "numbers_list = [1,2,3,4,5,6,7,8,9,10]\r\n",
        "\r\n",
        "for number in numbers_list:\r\n",
        "  if number == 1:\r\n",
        "    print('1st')\r\n",
        "  elif number == 2:\r\n",
        "    print('2nd')\r\n",
        "  elif number == 3:\r\n",
        "    print('3rd')\r\n",
        "  else:\r\n",
        "    print(str(number) +'th')\r\n"
      ],
      "execution_count": 22,
      "outputs": [
        {
          "output_type": "stream",
          "text": [
            "1st\n",
            "2nd\n",
            "3rd\n",
            "4th\n",
            "5th\n",
            "6th\n",
            "7th\n",
            "8th\n",
            "9th\n",
            "10th\n"
          ],
          "name": "stdout"
        }
      ]
    }
  ]
}